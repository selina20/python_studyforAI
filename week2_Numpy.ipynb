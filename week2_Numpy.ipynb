{
 "cells": [
  {
   "cell_type": "code",
   "execution_count": 1,
   "metadata": {},
   "outputs": [
    {
     "name": "stdout",
     "output_type": "stream",
     "text": [
      "[0 1 2 3 4 5]\n"
     ]
    }
   ],
   "source": [
    "#Numpy의 기초\n",
    "\n",
    "import numpy as np\n",
    "\n",
    "#Numpy 배열 생성 --- 여러 값이 나열된 것\n",
    "\n",
    "#python의 리스트로부터 numpy배열을 만든다\n",
    "a = np.array([0,1,2,3,4,5])\n",
    "print(a)"
   ]
  },
  {
   "cell_type": "code",
   "execution_count": 3,
   "metadata": {},
   "outputs": [
    {
     "name": "stdout",
     "output_type": "stream",
     "text": [
      "[[0 1 2 3 4]\n",
      " [5 6 7 8 9]]\n"
     ]
    }
   ],
   "source": [
    "#2중 리스트로부터 Numpy의 2차원 배열을 만든다\n",
    "import numpy as np\n",
    "\n",
    "b = np.array([[0,1,2,3,4],\n",
    "              [5,6,7,8,9]])\n",
    "print(b)"
   ]
  },
  {
   "cell_type": "code",
   "execution_count": 4,
   "metadata": {},
   "outputs": [
    {
     "name": "stdout",
     "output_type": "stream",
     "text": [
      "[[[ 0  1  2]\n",
      "  [ 3  4  5]]\n",
      "\n",
      " [[ 6  7  8]\n",
      "  [ 9 10 11]]]\n"
     ]
    }
   ],
   "source": [
    "#3중 리스트로부터 Numpy의 3차원 배열을 만든다\n",
    "\n",
    "c = np.array([[[0,1,2],[3,4,5]],\n",
    "              [[6,7,8],[9,10,11]]])\n",
    "print(c)"
   ]
  },
  {
   "cell_type": "code",
   "execution_count": 8,
   "metadata": {},
   "outputs": [
    {
     "name": "stdout",
     "output_type": "stream",
     "text": [
      "[0. 0. 0. 0. 0. 0. 0. 0.]\n",
      "[1. 1. 1. 1. 1. 1. 1. 1.]\n",
      "[0 1 2 3 4 5 6 7]\n"
     ]
    }
   ],
   "source": [
    "#Numpy 배열은 다른 함수를 사용해서도 생성할 수 있음\n",
    "#zeros(), ones(), arange()\n",
    "\n",
    "import numpy as np\n",
    "d = np.zeros(8) #0이 8개 저장된 배열\n",
    "print(d)\n",
    "\n",
    "e = np.ones(8) #1이 8개 저장된 배열\n",
    "print(e)\n",
    "\n",
    "f = np.arange(8) #0부터 7까지 저장된 배열 = 반 열린구간 default:0\n",
    "print(f)"
   ]
  },
  {
   "cell_type": "code",
   "execution_count": 9,
   "metadata": {},
   "outputs": [
    {
     "name": "stdout",
     "output_type": "stream",
     "text": [
      "(2, 3)\n"
     ]
    }
   ],
   "source": [
    "#배열의 형태 --- shape() 함수로 조사 가능, 반환형태: 튜플\n",
    "\n",
    "import numpy as np\n",
    "\n",
    "a = np.array([[0,1,2],\n",
    "              [3,4,5]]) # 2x3의 2차원 배열\n",
    "print(np.shape(a)) # a의 형태를 표시, 결과 = (행 수, 열 수)를 나타내는 튜플"
   ]
  },
  {
   "cell_type": "code",
   "execution_count": 13,
   "metadata": {},
   "outputs": [
    {
     "name": "stdout",
     "output_type": "stream",
     "text": [
      "2\n"
     ]
    }
   ],
   "source": [
    "# 배열의 가장 바깥쪽의 요소, 즉 행 수를 구하는 경우 len()함수 사용\n",
    "\n",
    "print(len(a))"
   ]
  },
  {
   "cell_type": "code",
   "execution_count": 14,
   "metadata": {},
   "outputs": [
    {
     "name": "stdout",
     "output_type": "stream",
     "text": [
      "[[0 1 2]\n",
      " [3 4 5]]\n",
      "\n",
      "[[3 4 5]\n",
      " [6 7 8]]\n",
      "\n",
      "[[ 0  3  6]\n",
      " [ 9 12 15]]\n"
     ]
    }
   ],
   "source": [
    "#배열과 수치 간에 연산\n",
    "\n",
    "import numpy as np\n",
    "\n",
    "a = np.array([[0,1,2],\n",
    "             [3,4,5]]) #2차원 배열\n",
    "\n",
    "print(a)\n",
    "print()\n",
    "print(a+3) #각 요소에 3을 더한다\n",
    "print()\n",
    "print(a*3) #각 요소에 3을 곱한다"
   ]
  },
  {
   "cell_type": "code",
   "execution_count": 15,
   "metadata": {},
   "outputs": [
    {
     "name": "stdout",
     "output_type": "stream",
     "text": [
      "[[0 1 2]\n",
      " [3 4 5]]\n",
      "\n",
      "[[2 0 1]\n",
      " [5 3 4]]\n",
      "\n",
      "[[2 1 3]\n",
      " [8 7 9]]\n",
      "\n",
      "[[ 0  0  2]\n",
      " [15 12 20]]\n",
      "\n"
     ]
    }
   ],
   "source": [
    "#배열끼리의 연산\n",
    "\n",
    "b = np.array([[0,1,2],\n",
    "            [3,4,5]]) #2차원 배열\n",
    "\n",
    "c = np.array([[2,0,1],\n",
    "            [5,3,4]]) #2차원 배열\n",
    "\n",
    "print(b)\n",
    "print()\n",
    "print(c)\n",
    "print()\n",
    "print(b+c)\n",
    "print()\n",
    "print(b*c)\n",
    "print()"
   ]
  },
  {
   "cell_type": "code",
   "execution_count": 21,
   "metadata": {},
   "outputs": [
    {
     "name": "stdout",
     "output_type": "stream",
     "text": [
      "4\n"
     ]
    }
   ],
   "source": [
    "#배열의 각 요소로 접근하기 위해서는?  인덱스 사용\n",
    "\n",
    "import numpy as np\n",
    "\n",
    "a = np.array([1,2,3,4,5])\n",
    "print(a[3]) #인덱스 지정"
   ]
  },
  {
   "cell_type": "code",
   "execution_count": 22,
   "metadata": {},
   "outputs": [
    {
     "name": "stdout",
     "output_type": "stream",
     "text": [
      "[1 2 9 4 5]\n"
     ]
    }
   ],
   "source": [
    "#인덱스를 통해 요소 바꿀 수 있음\n",
    "\n",
    "a[2] = 9\n",
    "print(a) # 3이 있던 자리에 9가 들어감"
   ]
  },
  {
   "cell_type": "code",
   "execution_count": 25,
   "metadata": {},
   "outputs": [
    {
     "name": "stdout",
     "output_type": "stream",
     "text": [
      "5\n"
     ]
    }
   ],
   "source": [
    "#2차원 배열의 요소로 접근하는 방법\n",
    "\n",
    "b = np.array([[0,1,2],\n",
    "            [3,4,5]])\n",
    "\n",
    "print(b[1,2]) #b[1][2]  --- 코드에서 배열은 인덱스 상 0번째행/열에서 시작하기 때문에 행렬 b의 1행 2열을 나타냄"
   ]
  },
  {
   "cell_type": "code",
   "execution_count": 26,
   "metadata": {},
   "outputs": [
    {
     "name": "stdout",
     "output_type": "stream",
     "text": [
      "[[0 1 2]\n",
      " [3 4 9]]\n"
     ]
    }
   ],
   "source": [
    "#2차원 배열의 요소를 변경할 경우\n",
    "\n",
    "b[1, 2] = 9 #5의 값을 9로 바꿈\n",
    "\n",
    "print(b) "
   ]
  },
  {
   "cell_type": "code",
   "execution_count": 34,
   "metadata": {},
   "outputs": [
    {
     "name": "stdout",
     "output_type": "stream",
     "text": [
      "[3 4 5]\n",
      "\n",
      "[[0 6 2]\n",
      " [3 7 5]]\n"
     ]
    }
   ],
   "source": [
    "#행/열에 접근하는 방법\n",
    "c = np.array([[0,1,2],\n",
    "              [3,4,5]])\n",
    "\n",
    "print(c[1, :]) #인덱스가 1인 행을 취득\n",
    "\n",
    "print()\n",
    "\n",
    "c[:, 1] = np.array([6,7]) #인덱스가 1인 열을 교체\n",
    "print(c)"
   ]
  },
  {
   "cell_type": "code",
   "execution_count": 35,
   "metadata": {},
   "outputs": [
    {
     "name": "stdout",
     "output_type": "stream",
     "text": [
      "[[ 1  3  5]\n",
      " [ 7  9 11]]\n"
     ]
    }
   ],
   "source": [
    "#함수의 인수, 반환값으로서의 배열\n",
    "\n",
    "import numpy as np\n",
    "\n",
    "def my_func(x):\n",
    "    y = x * 2 + 1\n",
    "    return y\n",
    "\n",
    "a = np.array([[0,1,2],\n",
    "              [3,4,5]]) #2차원 배열\n",
    "b = my_func(a) #인수로서 배열을 전달, 반환값으로서 배열을 전달\n",
    "\n",
    "print(b)"
   ]
  },
  {
   "cell_type": "code",
   "execution_count": 36,
   "metadata": {},
   "outputs": [
    {
     "name": "stdout",
     "output_type": "stream",
     "text": [
      "합계:  15\n",
      "평균:  2.5\n",
      "최댓값:  5\n",
      "최솟값:  0\n"
     ]
    }
   ],
   "source": [
    "#Numpy의 여러가지 기능\n",
    "#sum(), average(), max(), min()\n",
    "\n",
    "import numpy as np\n",
    "\n",
    "a = np.array([[0,1,2],\n",
    "             [3,4,5]]) #2차원 배열\n",
    "\n",
    "print(\"합계: \", np.sum(a))\n",
    "print(\"평균: \", np.average(a))\n",
    "print(\"최댓값: \", np.max(a))\n",
    "print(\"최솟값: \", np.min(a))"
   ]
  },
  {
   "cell_type": "code",
   "execution_count": 40,
   "metadata": {},
   "outputs": [
    {
     "name": "stdout",
     "output_type": "stream",
     "text": [
      "[[0 1]\n",
      " [3 4]] 는 역함수가 존재한다\n",
      "[[10 10]\n",
      " [10 10]] 는 역함수가 존재하지 않는다\n"
     ]
    }
   ],
   "source": [
    "#내가 만들어본 문제\n",
    "#역함수 존재 여부 확인 함수 만들어보기\n",
    "import numpy as np\n",
    "\n",
    "a = np.array([[0,1],\n",
    "            [3,4]])\n",
    "\n",
    "b = np. array([[10,10],\n",
    "             [10,10]])\n",
    "\n",
    "def inv_func(x):\n",
    "    a=x[0,0]\n",
    "    d=x[1,1]\n",
    "    b=x[0,1]\n",
    "    c=x[1,0]\n",
    "    \n",
    "    if((a*d)-(b*c)!=0):\n",
    "        print(x,\"는 역함수가 존재한다\")\n",
    "    else:\n",
    "        print(x,\"는 역함수가 존재하지 않는다\")\n",
    "    \n",
    "inv_func(a)\n",
    "inv_func(b)"
   ]
  },
  {
   "cell_type": "code",
   "execution_count": 42,
   "metadata": {},
   "outputs": [
    {
     "name": "stdout",
     "output_type": "stream",
     "text": [
      "\n",
      "[[5 5 5]\n",
      " [5 5 5]]\n",
      "\n",
      "[[-5 -3 -1]\n",
      " [ 1  3  5]]\n",
      "\n",
      "[[0 4 6]\n",
      " [6 4 0]]\n"
     ]
    }
   ],
   "source": [
    "#2차원 배열을 두 개 기술하고, 서로의 합, 차, 곱 구하기\n",
    "\n",
    "import numpy as np\n",
    "\n",
    "a = np.array([[0,1,2],\n",
    "              [3,4,5]])\n",
    "b = np.array([[5,4,3],\n",
    "            [2,1,0]])\n",
    "\n",
    "print()\n",
    "print(a+b)\n",
    "\n",
    "print()\n",
    "print(a-b)\n",
    "\n",
    "print()\n",
    "print(a*b)"
   ]
  },
  {
   "cell_type": "code",
   "execution_count": null,
   "metadata": {},
   "outputs": [],
   "source": []
  }
 ],
 "metadata": {
  "kernelspec": {
   "display_name": "Python 3",
   "language": "python",
   "name": "python3"
  },
  "language_info": {
   "codemirror_mode": {
    "name": "ipython",
    "version": 3
   },
   "file_extension": ".py",
   "mimetype": "text/x-python",
   "name": "python",
   "nbconvert_exporter": "python",
   "pygments_lexer": "ipython3",
   "version": "3.8.5"
  }
 },
 "nbformat": 4,
 "nbformat_minor": 4
}
