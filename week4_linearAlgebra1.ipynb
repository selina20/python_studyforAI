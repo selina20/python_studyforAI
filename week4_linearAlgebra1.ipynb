{
 "cells": [
  {
   "cell_type": "code",
   "execution_count": 2,
   "metadata": {},
   "outputs": [],
   "source": [
    "#여러개의 데이터를 하나로 묶어 다루는 방법 --- 스칼라, 벡터, 행렬, 텐서\n",
    "\n",
    "#스칼라의 예\n",
    "a=1\n",
    "b=1.2\n",
    "c= -0.25\n",
    "d= 1.2e5  #1.2*(10의 5제곱)=120000\n"
   ]
  },
  {
   "cell_type": "code",
   "execution_count": 4,
   "metadata": {},
   "outputs": [
    {
     "name": "stdout",
     "output_type": "stream",
     "text": [
      "[1 2 3]\n",
      "[-2.4   0.25 -1.3   1.8   0.61]\n"
     ]
    }
   ],
   "source": [
    "#벡터의 구현\n",
    "#벡터는 스칼라를 직선상에 나열한 것\n",
    "#세로로 수치를 나열하는 '세로벡터', 가로로 수치를 나열하는 '가로벡터'\n",
    "\n",
    "#벡터를 NumPy의 1차원 배열로 나타낸다\n",
    "import numpy as np\n",
    "\n",
    "a = np.array([1,2,3]) #1차원 배열로 벡터를 나타낸다\n",
    "print(a)\n",
    "\n",
    "b = np.array([-2.4, 0.25, -1.3, 1.8, 0.61])\n",
    "print(b)"
   ]
  },
  {
   "cell_type": "code",
   "execution_count": 6,
   "metadata": {},
   "outputs": [
    {
     "name": "stdout",
     "output_type": "stream",
     "text": [
      "[[1 2 3]\n",
      " [4 5 6]]\n",
      "[[ 0.21  0.14]\n",
      " [-1.3   0.81]\n",
      " [ 0.12 -2.1 ]]\n"
     ]
    }
   ],
   "source": [
    "#행렬 : 스칼라를 격자형태로 나열한 것\n",
    "#행렬을 Numpy의 2차원 배열로 나타낸다\n",
    "import numpy as np\n",
    "\n",
    "a = np.array([[1,2,3],[4,5,6]]) # 2*3의 행렬\n",
    "print(a)\n",
    "\n",
    "b = np.array([[0.21, 0.14],[-1.3, 0.81],[0.12, -2.1]]) # 3*2의 행렬\n",
    "print(b)"
   ]
  },
  {
   "cell_type": "code",
   "execution_count": 8,
   "metadata": {},
   "outputs": [
    {
     "name": "stdout",
     "output_type": "stream",
     "text": [
      "[[[0 1 2 3]\n",
      "  [2 3 4 5]\n",
      "  [4 5 6 7]]\n",
      "\n",
      " [[1 2 3 4]\n",
      "  [3 4 5 6]\n",
      "  [5 6 7 8]]]\n"
     ]
    }
   ],
   "source": [
    "#텐서 : 스칼라를 여러 개의 차원으로 나열한 것 (스칼라, 벡터, 행렬을 포함함)\n",
    "#3층의 텐서를 NumPy의 배열로 나타낸다\n",
    "\n",
    "a = np.array([[[0,1,2,3],\n",
    "               [2,3,4,5],\n",
    "               [4,5,6,7]],\n",
    "              [[1,2,3,4],\n",
    "               [3,4,5,6],\n",
    "               [5,6,7,8]]])\n",
    "print(a) #행렬이 2개 나열되어있음 --- 3차원 텐서"
   ]
  },
  {
   "cell_type": "code",
   "execution_count": 11,
   "metadata": {},
   "outputs": [
    {
     "name": "stdout",
     "output_type": "stream",
     "text": [
      "1.5\n",
      "\n",
      "[1 2 3 4 5]\n",
      "\n",
      "[[1 2 3]\n",
      " [4 5 6]]\n",
      "\n",
      "[[[ 1  2  3  4]\n",
      "  [ 3  4  5  6]]\n",
      "\n",
      " [[ 5  6  7  8]\n",
      "  [ 7  8  9 10]]]\n"
     ]
    }
   ],
   "source": [
    "import numpy as np\n",
    "\n",
    "#스칼라\n",
    "a = 1.5\n",
    "print(a)\n",
    "\n",
    "print()\n",
    "\n",
    "#벡터\n",
    "b = np.array([1,2,3,4,5])\n",
    "print(b)\n",
    "print()\n",
    "\n",
    "#행렬\n",
    "c = np.array([[1,2,3],[4,5,6]])\n",
    "print(c)\n",
    "print()\n",
    "\n",
    "#텐서\n",
    "d = np.array([[[1,2,3,4],[3,4,5,6]],[[5,6,7,8],[7,8,9,10]]])\n",
    "print(d)"
   ]
  },
  {
   "cell_type": "code",
   "execution_count": 12,
   "metadata": {},
   "outputs": [
    {
     "name": "stdout",
     "output_type": "stream",
     "text": [
      "--- dot()함수 ---\n",
      "10\n",
      "--- 곱의 총합 ---\n",
      "10\n"
     ]
    }
   ],
   "source": [
    "#벡터의 내적과 놈\n",
    "#내적 : 벡터끼리의 곱의 한 종류. \n",
    "#벡터a와 벡터b가 내적하려면 두 개의 벡터 요소 수가 같아야 함\n",
    "#벡터의 내적 계산\n",
    "import numpy as np\n",
    "\n",
    "a = np.array([1,2,3])\n",
    "b = np.array([3,2,1])\n",
    "\n",
    "print(\"--- dot()함수 ---\")\n",
    "print(np.dot(a,b)) # dot() 함수에 의한 내적\n",
    "print(\"--- 곱의 총합 ---\")\n",
    "print(np.sum(a*b)) #곱의 총합에 의한 내적\n",
    "\n",
    "#두 계산결과는 모두 같은 결과. \n",
    "#내적은 두 개의 벡터의 상관관계를 구할 때 등에 사용됨."
   ]
  },
  {
   "cell_type": "code",
   "execution_count": 13,
   "metadata": {},
   "outputs": [
    {
     "name": "stdout",
     "output_type": "stream",
     "text": [
      "--- L2놈 ---\n",
      "2.0\n",
      "--- L1놈 ---\n",
      "4.0\n"
     ]
    }
   ],
   "source": [
    "#놈 : 벡터의 크기를 나타내는 양. \n",
    "#L2놈 : 벡터의 각 요소를 제곱합하여 제곱근을 구해 계싼\n",
    "#L1놈 : 벡터의 각 요소의 절댓값을 더해서 계산\n",
    "#일반화된 놈 : 벡터의 각 요소에 p제곱한 것을 더해 전체 1/p 제곱하여 계산\n",
    "\n",
    "#놈의 계산 --- linalg.norm()함수 사용\n",
    "import numpy as np\n",
    "\n",
    "a = np.array([1,1,-1,-1])\n",
    "\n",
    "print(\"--- L2놈 ---\")\n",
    "print(np.linalg.norm(a)) # L2놈(디폴트)\n",
    "\n",
    "print(\"--- L1놈 ---\")\n",
    "print(np.linalg.norm(a,1)) # L1놈\n",
    "\n",
    "#놈의 종류에 따라 벡터의 크기는 다른 값이 됨.\n",
    "#놈은 인공지능에서 정칙화에 쓰임. '정칙화'란 필요 이상으로 네트워크 학습이 진행되는 것을 파라미터를 조절해서 예방하는 것."
   ]
  },
  {
   "cell_type": "code",
   "execution_count": 15,
   "metadata": {},
   "outputs": [
    {
     "name": "stdout",
     "output_type": "stream",
     "text": [
      "--- 내적 ---\n",
      "8\n",
      "--- L2놈 ---\n",
      "3.0\n",
      "--- L1놈 ---\n",
      "5.0\n"
     ]
    }
   ],
   "source": [
    "#Question. 벡터a와 벡터b의 내적, 벡터a와 L2놈과 L1놈 구하기\n",
    "import numpy as np\n",
    "\n",
    "a = np.array([1,-2,2])\n",
    "b = np.array([2,-2,1])\n",
    "\n",
    "print(\"--- 내적 ---\")\n",
    "print(np.dot(a,b))\n",
    "\n",
    "print(\"--- L2놈 ---\")\n",
    "print(np.linalg.norm(a))\n",
    "\n",
    "print(\"--- L1놈 ---\")\n",
    "print(np.linalg.norm(a,1))\n",
    "\n"
   ]
  },
  {
   "cell_type": "code",
   "execution_count": 17,
   "metadata": {},
   "outputs": [
    {
     "name": "stdout",
     "output_type": "stream",
     "text": [
      "[[ 6  3]\n",
      " [12  6]]\n"
     ]
    }
   ],
   "source": [
    "#행렬의 곱\n",
    "#벡터끼리의 내적을 행렬로 확장하면 행렬의 곱이 됨\n",
    "#행렬의 곱은 인공지능에서 효율적인 계산을 시행하기 위해서 중요한 조작임\n",
    "\n",
    "import numpy as np\n",
    "\n",
    "a = np.array([[0,1,2],\n",
    "              [1,2,3]])\n",
    "b = np.array([[2,1],\n",
    "              [2,1],\n",
    "              [2,1]])\n",
    "\n",
    "print(np.dot(a,b))"
   ]
  },
  {
   "cell_type": "code",
   "execution_count": 19,
   "metadata": {},
   "outputs": [
    {
     "name": "stdout",
     "output_type": "stream",
     "text": [
      "[[ 0  1  4]\n",
      " [ 6  0  5]\n",
      " [ 6 14  0]]\n"
     ]
    }
   ],
   "source": [
    "#행렬의 요소별 곱(아다마르 곱) --- a11,b11 요소끼리 단순히 곱한 결과를 요소로 둠\n",
    "#NumPy를 사용해 요소별 곱을 계산\n",
    "\n",
    "import numpy as np\n",
    "\n",
    "a = np.array([[0,1,2],\n",
    "              [3,4,5],\n",
    "              [6,7,8]])\n",
    "\n",
    "b = np.array([[0,1,2],\n",
    "            [2,0,1],\n",
    "            [1,2,0]])\n",
    "\n",
    "print(a*b)"
   ]
  },
  {
   "cell_type": "code",
   "execution_count": 23,
   "metadata": {},
   "outputs": [
    {
     "name": "stdout",
     "output_type": "stream",
     "text": [
      "---행렬 a와 행렬 b의 행렬곱\n",
      "[[ 5  8]\n",
      " [ 8 14]]\n",
      "\n",
      "---행렬 c와 행렬 d의 요소별 곱\n",
      "[[ 0  2  0]\n",
      " [ 6  0 10]\n",
      " [ 0 14  0]]\n"
     ]
    }
   ],
   "source": [
    "#Question 행렬a와 행렬b의 행렬곱, 행렬 c와 행렬d의 요소별 곱\n",
    "\n",
    "import numpy as np\n",
    "a = np.array([[0,1,2],\n",
    "              [1,2,3]])\n",
    "b = np.array([[0,1],\n",
    "              [1,2],\n",
    "              [2,3]])\n",
    "\n",
    "#행렬곱\n",
    "c = np.array([[0,1,2],\n",
    "              [3,4,5],\n",
    "              [6,7,8]])\n",
    "\n",
    "d = np.array([[0,2,0],\n",
    "              [2,0,2],\n",
    "              [0,2,0]])\n",
    "\n",
    "#행렬별 곱\n",
    "print(\"---행렬 a와 행렬 b의 행렬곱\")\n",
    "print(np.dot(a,b))\n",
    "print()\n",
    "print(\"---행렬 c와 행렬 d의 요소별 곱\")\n",
    "print(c*d)"
   ]
  },
  {
   "cell_type": "code",
   "execution_count": 24,
   "metadata": {},
   "outputs": [
    {
     "name": "stdout",
     "output_type": "stream",
     "text": [
      "[[1 2 3]\n",
      " [4 5 6]]\n",
      "[[1 4]\n",
      " [2 5]\n",
      " [3 6]]\n"
     ]
    }
   ],
   "source": [
    "#전치 : 행과 열을 바꿈. 인공지능의 코드에서는 전치를 자주 사용함\n",
    "#행렬을 전치함으로써 행과 열이 바뀜\n",
    "import numpy as np\n",
    "\n",
    "a = np.array([[1,2,3],[4,5,6]])\n",
    "b = a.T\n",
    "\n",
    "print(a)\n",
    "print(b)"
   ]
  },
  {
   "cell_type": "code",
   "execution_count": 25,
   "metadata": {},
   "outputs": [
    {
     "name": "stdout",
     "output_type": "stream",
     "text": [
      "[[ 5  8]\n",
      " [ 8 14]]\n"
     ]
    }
   ],
   "source": [
    "#행렬곱을 할 수 없는 상황에서 전치를 하면 행렬곱이 가능해질 수도 있다.\n",
    "#전치하고 나서 행렬곱 실시\n",
    "\n",
    "import numpy as np\n",
    "\n",
    "a = np.array([[0,1,2],\n",
    "              [1,2,3]]) #2*3의 행렬\n",
    "b = np.array([[0,1,2],\n",
    "              [1,2,3]]) #2*3의 행렬 이대로는 행렬곱을 할 수 없다\n",
    "\n",
    "#print(np.dot(a,b)) #전치하지 않고 행렬곱을 취하면 에러\n",
    "print(np.dot(a,b.T)) #전치에 의해 행렬곱이 가능해짐"
   ]
  },
  {
   "cell_type": "code",
   "execution_count": 27,
   "metadata": {},
   "outputs": [
    {
     "name": "stdout",
     "output_type": "stream",
     "text": [
      "[[ 5 11]\n",
      " [ 8 20]]\n"
     ]
    }
   ],
   "source": [
    "#Question 행렬a 또는 행렬b를 전치하고, 행렬a와 행렬b의 행렬곱을 계산한다\n",
    "\n",
    "import numpy as np\n",
    "a = np.array([[0,1,2],\n",
    "              [1,2,3]])\n",
    "b = np.array([[0,1,2],\n",
    "             [2,3,4]])\n",
    "\n",
    "#행렬곱\n",
    "print(np.dot(a,b.T))"
   ]
  },
  {
   "cell_type": "code",
   "execution_count": 31,
   "metadata": {},
   "outputs": [
    {
     "name": "stdout",
     "output_type": "stream",
     "text": [
      "[[1. 0.]\n",
      " [0. 1.]]\n",
      "\n",
      "[[1. 0. 0.]\n",
      " [0. 1. 0.]\n",
      " [0. 0. 1.]]\n",
      "\n",
      "[[1. 0. 0. 0.]\n",
      " [0. 1. 0. 0.]\n",
      " [0. 0. 1. 0.]\n",
      " [0. 0. 0. 1.]]\n"
     ]
    }
   ],
   "source": [
    "#행렬식을 사용합으로써 역행렬을 구할 수 있다\n",
    "#역행렬을 사용하면 행렬의 방정식을 풀 수 있음\n",
    "#단위행렬(E): 행-열 수 같음. 오른쪽 아래로 대각선 요소가 1, 그 외 모두 0\n",
    "#단위행렬은 같은 크기의 행렬에 곱해도 곱하는 대상의 행렬을 변화시키지 않는 성질이 있음\n",
    "#Numpy의 eye()함수로 표현 가능\n",
    "\n",
    "import numpy as np\n",
    "\n",
    "a = np.eye(2) # 2*2단위 행렬\n",
    "print(a)\n",
    "print()\n",
    "\n",
    "a = np.eye(3) # 3*3단위 행렬\n",
    "print(a)\n",
    "print()\n",
    "\n",
    "a = np.eye(4) # 4*4단위 행렬\n",
    "print(a)\n"
   ]
  },
  {
   "cell_type": "code",
   "execution_count": 35,
   "metadata": {},
   "outputs": [
    {
     "name": "stdout",
     "output_type": "stream",
     "text": [
      "-2.0000000000000004\n",
      "0.0\n"
     ]
    }
   ],
   "source": [
    "#역행렬 : 어떤 행렬에 곱했을 때 단위행렬을 만드는 행렬\n",
    "#행렬식에 따라 역행렬이 존재하지 않을 수도 있음. 역행렬이 존재할지 여부는 행렬식에 의해 판정할 수 있음\n",
    "#행렬식의 구현\n",
    "import numpy as np\n",
    "a = np.array([[1,2],\n",
    "              [3,4]])\n",
    "print(np.linalg.det(a)) #행렬식이 0이 되지 않는 경우\n",
    "\n",
    "b = np.array([[1,2],\n",
    "              [0,0]]) \n",
    "print(np.linalg.det(b)) #행렬식이 0이 되는 경우"
   ]
  },
  {
   "cell_type": "code",
   "execution_count": 38,
   "metadata": {},
   "outputs": [
    {
     "name": "stdout",
     "output_type": "stream",
     "text": [
      "[[-2.   1. ]\n",
      " [ 1.5 -0.5]]\n"
     ]
    }
   ],
   "source": [
    "#역행렬의 구현\n",
    "#linalg.inv() 함수를 사용해서 역행렬을 구한다\n",
    "\n",
    "import numpy as np\n",
    "a = np.array([[1,2],\n",
    "              [3,4]])\n",
    "print(np.linalg.inv(a)) #역행렬\n",
    "\n",
    "b = np.array([[1,2],\n",
    "              [0,0]]) \n",
    "#print(np.linalg.inv(b)) #역행렬이 존재하지 않으므로 에러가 남"
   ]
  },
  {
   "cell_type": "code",
   "execution_count": 40,
   "metadata": {},
   "outputs": [
    {
     "name": "stdout",
     "output_type": "stream",
     "text": [
      "1.0\n",
      "[[ 2. -1.]\n",
      " [-1.  1.]]\n"
     ]
    }
   ],
   "source": [
    "#행 수, 열 수가 많은 정방행렬은 역행렬을 손으로 계산할 때, 가우스 소거법, 여인수법 등을 이용하는데\n",
    "#계산이 조금 복잡해짐.이러한 경우에도 NumPy의 linalg.inv()함수를 사용하면 간단하게 역행렬을 구할 수 있음\n",
    "#역행렬 -> 인공지능에서 변수끼리 상관관계를 알아보는 회귀 분석에 사용됨\n",
    "\n",
    "#Question 행렬a의 행렬식을 구하고, 역행렬이 존재하는 경우는 역행렬을 구한다\n",
    "import numpy as np\n",
    "a = np.array([[1,1],\n",
    "              [1,2]])\n",
    "\n",
    "#행렬식\n",
    "print(np.linalg.det(a))\n",
    "\n",
    "#역행렬\n",
    "print(np.linalg.inv(a))"
   ]
  },
  {
   "cell_type": "code",
   "execution_count": null,
   "metadata": {},
   "outputs": [],
   "source": []
  }
 ],
 "metadata": {
  "kernelspec": {
   "display_name": "Python 3",
   "language": "python",
   "name": "python3"
  },
  "language_info": {
   "codemirror_mode": {
    "name": "ipython",
    "version": 3
   },
   "file_extension": ".py",
   "mimetype": "text/x-python",
   "name": "python",
   "nbconvert_exporter": "python",
   "pygments_lexer": "ipython3",
   "version": "3.8.5"
  }
 },
 "nbformat": 4,
 "nbformat_minor": 4
}
