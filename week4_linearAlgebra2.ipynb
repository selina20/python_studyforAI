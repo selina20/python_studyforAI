{
 "cells": [
  {
   "cell_type": "code",
   "execution_count": 2,
   "metadata": {},
   "outputs": [
    {
     "name": "stdout",
     "output_type": "stream",
     "text": [
      "<matplotlib.quiver.Quiver object at 0x000002C3047B8100>\n"
     ]
    },
    {
     "data": {
      "image/png": "[encoded data removed]",
      "text/plain": [
       "<Figure size 432x288 with 1 Axes>"
      ]
     },
     "metadata": {
      "needs_background": "light"
     },
     "output_type": "display_data"
    }
   ],
   "source": [
    "#선형변환 (에 의해 벡터를변환)\n",
    "#인공지능에서는 뉴럴 네트워크로 정보를 전파시킨은데 선형변환을 사용함\n",
    "\n",
    "import numpy as np\n",
    "import matplotlib.pyplot as plt\n",
    "\n",
    "a = plt.quiver(2,3)\n",
    "print(a)"
   ]
  },
  {
   "cell_type": "code",
   "execution_count": 4,
   "metadata": {},
   "outputs": [
    {
     "data": {
      "image/png": "[encoded data removed]",
      "text/plain": [
       "<Figure size 432x288 with 1 Axes>"
      ]
     },
     "metadata": {
      "needs_background": "light"
     },
     "output_type": "display_data"
    }
   ],
   "source": [
    "#원점을 시작점으로 한 화살표로 벡터 그리기\n",
    "\n",
    "import numpy as np\n",
    "import matplotlib.pyplot as plt\n",
    "\n",
    "#화살표를 그리는 함수\n",
    "def arrow(start, size, color):\n",
    "    plt.quiver(start[0], start[1], size[0], size[1], angles=\"xy\",\n",
    "              scale_units=\"xy\", scale=1, color=color)\n",
    "    \n",
    "#화살표의 시작점\n",
    "s = np.array([0,0]) #원점\n",
    "\n",
    "#벡터\n",
    "a = np.array([2,3]) #세로 벡터를 낱아낸다\n",
    "\n",
    "arrow(s, a, color=\"black\")\n",
    "\n",
    "#그래프 표시\n",
    "plt.xlim([-3,3]) #x의 표시 범위\n",
    "plt.ylim([-3,3]) #y의 표시 범위\n",
    "plt.xlabel(\"x\", size=14)\n",
    "plt.ylabel(\"y\", size=14)\n",
    "plt.grid()\n",
    "plt.gca().set_aspect(\"equal\") #가로세로비를 같게\n",
    "plt.show()"
   ]
  },
  {
   "cell_type": "code",
   "execution_count": 5,
   "metadata": {},
   "outputs": [
    {
     "name": "stdout",
     "output_type": "stream",
     "text": [
      "변환 전의 벡터(a): [2 3]\n",
      "변환 후의 벡터(b): [ 1 -2]\n"
     ]
    },
    {
     "data": {
      "image/png": "[encoded data removed]",
      "text/plain": [
       "<Figure size 432x288 with 1 Axes>"
      ]
     },
     "metadata": {
      "needs_background": "light"
     },
     "output_type": "display_data"
    }
   ],
   "source": [
    "#선형변환\n",
    "#행렬 A를 세로벡터 a에 곱합으로써 벡터를 변환할 수 있음\n",
    "#변환 전의 벡터 a, 변환 후의 벡터 b\n",
    "import numpy as np\n",
    "import matplotlib.pyplot as plt\n",
    "\n",
    "a = np.array([2,3]) #변환 전의 벡터\n",
    "\n",
    "A = np.array([[2,-1],[2,-2]])\n",
    "\n",
    "b = np.dot(A, a) #선형변환\n",
    "\n",
    "print(\"변환 전의 벡터(a):\", a)\n",
    "print(\"변환 후의 벡터(b):\", b)\n",
    "\n",
    "def arrow(start, size, color):\n",
    "    plt.quiver(start[0], start[1], size[0], size[1], angles=\"xy\", \n",
    "               scale_units=\"xy\", scale=1, color=color)\n",
    "    \n",
    "s = np.array([0,0]) #원점\n",
    "\n",
    "arrow(s, a, color=\"black\")\n",
    "arrow(s, b, color=\"blue\")\n",
    "\n",
    "#그래프 표시\n",
    "plt.xlim([-3,3]) #x의 표시 범위\n",
    "plt.ylim([-3,3]) #y의 표시 범위\n",
    "plt.xlabel(\"x\", size=14)\n",
    "plt.ylabel(\"y\", size=14)\n",
    "plt.grid()\n",
    "plt.gca().set_aspect(\"equal\") #가로세로비를 같게\n",
    "plt.show()"
   ]
  },
  {
   "cell_type": "code",
   "execution_count": 6,
   "metadata": {},
   "outputs": [
    {
     "name": "stdout",
     "output_type": "stream",
     "text": [
      "a: [2 3]\n",
      "e_x [1 0]\n",
      "e_y: [0 1]\n"
     ]
    },
    {
     "data": {
      "image/png": "[encoded data removed]",
      "text/plain": [
       "<Figure size 432x288 with 1 Axes>"
      ]
     },
     "metadata": {
      "needs_background": "light"
     },
     "output_type": "display_data"
    }
   ],
   "source": [
    "#표준기저\n",
    "#벡터는 표준기저와 상수의 곱의 합으로 표현할 수 있음\n",
    "\n",
    "import numpy as np\n",
    "import matplotlib.pyplot as plt\n",
    "\n",
    "a = np.array([2,3])\n",
    "e_x = np.array([1,0])\n",
    "e_y = np.array([0,1])\n",
    "\n",
    "print(\"a:\", a)\n",
    "print(\"e_x\", e_x)\n",
    "print(\"e_y:\", e_y)\n",
    "\n",
    "def arrow(start, size, color):\n",
    "    plt.quiver(start[0], start[1], size[0], size[1], angles=\"xy\",\n",
    "              scale_units=\"xy\", scale=1, color=color)\n",
    "    \n",
    "s = np.array([0,0]) #그래프 원점\n",
    "\n",
    "arrow(s, a, color=\"blue\")\n",
    "arrow(s, e_x, color=\"black\")\n",
    "arrow(s, e_y, color=\"black\")\n",
    "\n",
    "#그래프 표시\n",
    "plt.xlim([-3,3]) #x의 표시 범위\n",
    "plt.ylim([-3,3]) #y의 표시 범위\n",
    "plt.xlabel(\"x\", size=14)\n",
    "plt.ylabel(\"y\", size=14)\n",
    "plt.grid()\n",
    "plt.gca().set_aspect(\"equal\") #가로세로비를 같게\n",
    "plt.show()"
   ]
  },
  {
   "cell_type": "code",
   "execution_count": 2,
   "metadata": {},
   "outputs": [
    {
     "name": "stdout",
     "output_type": "stream",
     "text": [
      "a: [1 3]\n",
      "b: [-2 -1]\n"
     ]
    },
    {
     "data": {
      "image/png": "[encoded data removed]",
      "text/plain": [
       "<Figure size 432x288 with 1 Axes>"
      ]
     },
     "metadata": {
      "needs_background": "light"
     },
     "output_type": "display_data"
    }
   ],
   "source": [
    "#Question 벡터 a를 행렬 A로 선형변환하고, 벡터a와 변환 후의 벡터 b를 화살표로 그래프 상에 표시\n",
    "\n",
    "import numpy as np\n",
    "import matplotlib.pyplot as plt\n",
    "\n",
    "a = np.array([1,3])\n",
    "A = np.array([[1,-1],[2,-1]])\n",
    "b = np.dot(A,a)\n",
    "\n",
    "print(\"a:\", a)\n",
    "print(\"b:\", b)\n",
    "\n",
    "def arrow(start, size, color):\n",
    "    plt.quiver(start[0], start[1], size[0], size[1], angles=\"xy\",\n",
    "              scale_units=\"xy\", scale=1, color=color)\n",
    "    \n",
    "s = np.array([0,0])\n",
    "arrow(s, a, color=\"black\")\n",
    "arrow(s, b, color=\"blue\")\n",
    "\n",
    "#그래프 표시\n",
    "plt.xlim([-3,3]) #x의 표시 범위\n",
    "plt.ylim([-3,3]) #y의 표시 범위\n",
    "plt.xlabel(\"x\", size=14)\n",
    "plt.ylabel(\"y\", size=14)\n",
    "plt.grid()\n",
    "plt.gca().set_aspect(\"equal\") #가로세로비를 같게\n",
    "plt.show()"
   ]
  },
  {
   "cell_type": "code",
   "execution_count": 4,
   "metadata": {},
   "outputs": [
    {
     "name": "stdout",
     "output_type": "stream",
     "text": [
      "[2. 5.]\n",
      "\n",
      "[[-0.70710678 -0.4472136 ]\n",
      " [ 0.70710678 -0.89442719]]\n"
     ]
    }
   ],
   "source": [
    "#고유벡터: 선형변환에 의해 각 요소가 고윳값 배가 되는 벡터\n",
    "#고유방정식: 행렬(A-rE)가 역행렬을 가지지 않는 경우 --- det(A-rE)=0을 만족\n",
    "\n",
    "#행렬A의 교윳값 계산\n",
    "import numpy as np\n",
    "a = np.array([[3,1],\n",
    "              [2,4]])\n",
    "\n",
    "ev = np.linalg.eig(a) #고윳값과 고유벡터를 동시에 구한다\n",
    "\n",
    "print(ev[0]) #첫 요소는 고윳값\n",
    "\n",
    "print()\n",
    "\n",
    "print(ev[1]) #다음 요소는 고유벡터"
   ]
  },
  {
   "cell_type": "code",
   "execution_count": 5,
   "metadata": {},
   "outputs": [
    {
     "name": "stdout",
     "output_type": "stream",
     "text": [
      "[-1.  2.]\n",
      "\n",
      "[[-0.9701425  -0.70710678]\n",
      " [-0.24253563 -0.70710678]]\n"
     ]
    }
   ],
   "source": [
    "#Question linalg.eig()함수를 사용해 고윳갑소가 고유벡터를 구함\n",
    "import numpy as np\n",
    "\n",
    "a = np.array([[-2,4],\n",
    "              [-1,3]])\n",
    "\n",
    "ev = np.linalg.eig(a)\n",
    "\n",
    "print(ev[0])\n",
    "print()\n",
    "print(ev[1])"
   ]
  },
  {
   "cell_type": "code",
   "execution_count": 7,
   "metadata": {},
   "outputs": [
    {
     "name": "stdout",
     "output_type": "stream",
     "text": [
      "--- a와 b의 코사인 유사도---\n",
      "4.0\n",
      "--- a와 c의 코사인 유사도---\n",
      "-4.0\n"
     ]
    }
   ],
   "source": [
    "#코사인 유사도 : 벡터끼리의 방향의 가까운 정도 --- 인공지능에서 자주 사용됨\n",
    "#(2차원의)두 벡터 사이의 각 --- cos\n",
    "#ex) 인공지능에서 한국어, 영어 등의 자연 언어를 다루는 경우,\n",
    "#    단어를 자주 벡터로 나타낸다. 코사인 유사도는 이처럼 단어 사이 관계성을 나타내는데 이용함\n",
    "\n",
    "#내적과 놈을 사용해 코사인 유사도를 계산\n",
    "import numpy as np\n",
    "\n",
    "def cos_sim(vec_1, vec_2):\n",
    "    return np.dot(vec_1, vec_2) / (np.linalg.norm(vec_1)) * (np.linalg.norm(vec_2))\n",
    "\n",
    "a = np.array([2,2,2,2])\n",
    "b = np.array([1,1,1,1]) #a와 같은 방향\n",
    "c = np.array([-1,-1,-1,-1]) #a와 반대 방향\n",
    "\n",
    "print(\"--- a와 b의 코사인 유사도---\")\n",
    "print(cos_sim(a,b))\n",
    "\n",
    "print(\"--- a와 c의 코사인 유사도---\")\n",
    "print(cos_sim(a,c))"
   ]
  },
  {
   "cell_type": "code",
   "execution_count": 8,
   "metadata": {},
   "outputs": [
    {
     "name": "stdout",
     "output_type": "stream",
     "text": [
      "--- a와 b의 코사인 유사도 ---\n",
      "0.0\n"
     ]
    }
   ],
   "source": [
    "#Question 벡터a와 벡터b의 코사인 유사도 계산\n",
    "\n",
    "import numpy as np\n",
    "\n",
    "def cos_sim(vec_1, vec_2):\n",
    "    return np.dot(vec_1,vec_2) / np.linalg.norm(vec_1)*np.linalg.norm(vec_2)\n",
    "\n",
    "a = np.array([2,0,1,0])\n",
    "b = np.array([0,1,0,2])\n",
    "\n",
    "print(\"--- a와 b의 코사인 유사도 ---\")\n",
    "print(cos_sim(a,b))"
   ]
  },
  {
   "cell_type": "code",
   "execution_count": null,
   "metadata": {},
   "outputs": [],
   "source": []
  }
 ],
 "metadata": {
  "kernelspec": {
   "display_name": "Python 3",
   "language": "python",
   "name": "python3"
  },
  "language_info": {
   "codemirror_mode": {
    "name": "ipython",
    "version": 3
   },
   "file_extension": ".py",
   "mimetype": "text/x-python",
   "name": "python",
   "nbconvert_exporter": "python",
   "pygments_lexer": "ipython3",
   "version": "3.8.5"
  }
 },
 "nbformat": 4,
 "nbformat_minor": 4
}
